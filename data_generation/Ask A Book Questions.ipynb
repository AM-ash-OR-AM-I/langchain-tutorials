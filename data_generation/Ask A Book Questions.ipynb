{
 "cells": [
  {
   "cell_type": "code",
   "execution_count": 2,
   "id": "9d615a77",
   "metadata": {},
   "outputs": [
    {
     "name": "stdout",
     "output_type": "stream",
     "text": [
      "Requirement already satisfied: pypdf in /usr/local/python/3.10.4/lib/python3.10/site-packages (3.8.1)\n",
      "\n",
      "\u001b[1m[\u001b[0m\u001b[34;49mnotice\u001b[0m\u001b[1;39;49m]\u001b[0m\u001b[39;49m A new release of pip is available: \u001b[0m\u001b[31;49m23.1.1\u001b[0m\u001b[39;49m -> \u001b[0m\u001b[32;49m23.1.2\u001b[0m\n",
      "\u001b[1m[\u001b[0m\u001b[34;49mnotice\u001b[0m\u001b[1;39;49m]\u001b[0m\u001b[39;49m To update, run: \u001b[0m\u001b[32;49mpython -m pip install --upgrade pip\u001b[0m\n"
     ]
    }
   ],
   "source": [
    "# pip install langchain --upgrade\n",
    "# Version: 0.0.164\n",
    "\n",
    "! pip install pypdf"
   ]
  },
  {
   "cell_type": "code",
   "execution_count": 3,
   "id": "2d3e92ed",
   "metadata": {},
   "outputs": [],
   "source": [
    "# PDF Loaders. If unstructured gives you a hard time, try PyPDFLoader\n",
    "from langchain.document_loaders import UnstructuredPDFLoader, OnlinePDFLoader, PyPDFLoader\n",
    "\n",
    "from langchain.text_splitter import RecursiveCharacterTextSplitter\n",
    "import os"
   ]
  },
  {
   "attachments": {},
   "cell_type": "markdown",
   "id": "5166d759",
   "metadata": {},
   "source": [
    "### Load your data"
   ]
  },
  {
   "cell_type": "code",
   "execution_count": 4,
   "id": "b4a2d6bf",
   "metadata": {},
   "outputs": [],
   "source": [
    "loader = PyPDFLoader(\"../data/test3.pdf\")\n",
    "\n",
    "## Other options for loaders \n",
    "# loader = UnstructuredPDFLoader(\"../data/field-guide-to-data-science.pdf\")\n",
    "# loader = OnlinePDFLoader(\"https://wolfpaulus.com/wp-content/uploads/2017/05/field-guide-to-data-science.pdf\")"
   ]
  },
  {
   "cell_type": "code",
   "execution_count": 5,
   "id": "bcdac23c",
   "metadata": {},
   "outputs": [
    {
     "name": "stderr",
     "output_type": "stream",
     "text": [
      "Multiple definitions in dictionary at byte 0xd7 for key /Mask\n",
      "Multiple definitions in dictionary at byte 0x30d for key /Mask\n",
      "Multiple definitions in dictionary at byte 0x31d for key /Mask\n",
      "Multiple definitions in dictionary at byte 0x32d for key /Mask\n",
      "Multiple definitions in dictionary at byte 0x33d for key /Mask\n",
      "Multiple definitions in dictionary at byte 0x34d for key /Mask\n",
      "Multiple definitions in dictionary at byte 0x589 for key /Mask\n",
      "Multiple definitions in dictionary at byte 0x8db for key /Mask\n",
      "Multiple definitions in dictionary at byte 0x2878 for key /Mask\n"
     ]
    }
   ],
   "source": [
    "data = loader.load()"
   ]
  },
  {
   "cell_type": "code",
   "execution_count": 6,
   "id": "a2cd23df",
   "metadata": {},
   "outputs": [
    {
     "data": {
      "text/plain": [
       "[Document(page_content='1All Things Bright and Beautiful\\n   C.F. Alexander\\n A. Lead – in:\\nWe see and enjoy many things around us such as beautiful sunrises and sunsets,\\ntrees and flowers, rivers and mountains, birds and animals. We smell the fragrance of\\nflowers and feel the change of seasons. We have eyes to see all these and lips to\\npraise the beauty of the creation. Have you ever thought  who has created such beautiful\\nthings for us ? Who has blessed us with the senses of sight, smell and feeling ? Read\\nthe poem to know what the poet thinks about these things.\\n B. Let’s listen to the Poem :\\nThe teacher reads the whole poem aloud. Listen to the teacher only. Don’t\\nopen the book.\\nOpen your text book when the teacher reads aloud a portion of the poem.\\nListen to him / her and mark the manner of reading.\\nRead the poem silently to understand. Refer to the glossary if you find some\\nwords / expressions difficult.\\n C.  The Text\\nAll things bright and beautiful,\\nAll creatures great and small,\\nAll things wise and wonderful,\\nThe Lord God made them all.\\nDETAILED TEXT', metadata={'source': '../data/test3.pdf', 'page': 0}),\n",
       " Document(page_content='2Each little flower that opens,\\nEach little bird that sings,\\nHe made their glowing colours,\\nHe made their tiny wings.\\nThe purple-headed mountain,\\nThe river running by,\\nThe sunset and the morning,\\nThat brightens up the sky.\\nThe cold wind in the winter,\\nThe pleasant summer sun,\\nThe ripe fruit in the garden,\\nHe made them everyone.\\nThe tall trees in the green wood,\\nThe meadows where we play,\\nThe rushes by the water,\\nWe gather every day.\\nHe gave us eyes to see them,\\nAnd lips that we might tell\\nHow great is God Almighty,\\nwho has made all things well.\\n D.  About the Poet :\\nCecil Frances Alexander was born in Dublin, Ireland in 1818. She is a famous\\nhymn writer and poet. Her famous works are ‘Hymn for Children’, ‘Christmas Carol’,\\n‘Once in Royal David’s City’, ‘Verses for Holy Season’. This poem is included in ‘Hymn\\nfor Children’.', metadata={'source': '../data/test3.pdf', 'page': 1}),\n",
       " Document(page_content='3 E.  Notes  and Glossary :\\nglowing - bright\\npurple headed - the rays of the setting sun make the mountain – top appear purple,\\ni.e., bluish red.\\nmeadow      - an open area of grassland.\\nrushes        - varieties of waterside plants, some of which are used for making\\nmats and baskets.\\n F. Let’s read and understand:\\n1. What does the poet think of all things ?\\n2. Who has made all these things ?\\n3. What are the little things mentioned in the poem ?\\n4. How does the poet describe the beauty of flowers ?\\n5. How does the poet describe the little birds ?\\n6. How is the mountain described in the poem ?\\n7. Why does it appear so ?\\n8. What brightens up the sky ?\\n9. How does the sky look during the sunset ?\\n10. Which are the two seasons mentioned in the poem ?\\n11. Why does the poet consider the summer sun pleasant ?\\n12. What do we enjoy in the green wood ?\\n13. How are the meadows useful for us ?', metadata={'source': '../data/test3.pdf', 'page': 2}),\n",
       " Document(page_content='414. Where do the rushes grow ?\\n15. Why do people gather rushes ?\\n16. Why has God given us eyes ?\\n17. What should our lips tell ?\\n18. How does the poet describe God ?\\n G. Let’s appreciate:\\nThe poet describes many things in the poem. Make a list of the things described\\nin the poem.\\n1. Which of the things are bright and which of the things are small ?\\n2. Which are the lines in the poem where the poet expresses his gratitude\\nto God ?\\n3. Is this poem a description or a prayer ?\\n4. Why do you think so ?\\nEach stanza of the poem is a unit. Mark the stanzas and the last word in each line.\\nYou will see that the last word of one line is similar in sound to the last word of\\nanother line. These are rhyming words.\\nLet’s do some activities :\\n(The teacher is free to decide whether all the activities shall be done by the whole\\nclass or each group will do one activity.)\\n Activity- I :\\nStudents are divided into groups of four or five. Each group is asked to find the\\nlast word in each line of a stanza and put together all the words which have similar\\nsounds. Each group is asked to present their findings.\\n', metadata={'source': '../data/test3.pdf', 'page': 3}),\n",
       " Document(page_content='5Activity- II :\\n(a) Fill in the blanks choosing the appropriate words given in brackets and read the\\nlines.\\n1. God has given it ____________\\n2. So it can ____________,\\n3. And it beautifully ___________\\n4. While going up in the ________. (fly, sings, sky, wings)\\n(b) 1. The meadows look ____________\\n2. Where we run and ____________\\n3. And the river is ____________\\n4. Where we bathe _______.  (play, every day, clean, green)\\nActivity- III :\\nFill in the blanks with appropriate words.\\n1. He gave us ears to _________.\\n2. He gave us _________ to see.\\n3. He gave us _________ to taste things.\\n4. He gave us skin to _________ things.\\n5. He gave us nose to _________.\\n6. We enjoy God’s creation through the five ____________ mentioned\\nabove.\\nActivity- IV :\\nGiven below are some clues. Pick up the lines of the poem following the clues.', metadata={'source': '../data/test3.pdf', 'page': 4}),\n",
       " Document(page_content='6flower ____________________________\\ncolour ____________________________\\nbird ____________________________\\nwings ____________________________\\nNow compare these lines with the appropriate stanza of the poem. What change\\nin the rhyming pattern do you mark ?\\n H. Let’s  listen and speak:\\nStudents are divided into groups of four to five. Each group is given a word from\\nthe poem. The members of a group discuss the word among themselves for five minutes.\\nThen one group has to answer the questions on the word asked by the other groups.\\nThe following words may be picked up from the text :\\nmountain, sunset, sunrise, winter, summer, sun, river, garden, green wood,\\nmeadow, rushes\\n[This can be used as a competitive game among the groups. Credit can be given\\nfor the number of correct answers to the questions by the  members of a group.  A\\nmaximum of ten questions shall be asked by each group and be given credit.  At the\\nend of the game, the total score is calculated for the winners and runners up or serial\\npositions of the groups. The teacher is to provide an equal number of words to each\\ngroup and decide the equal number of questions to be asked by each group as well as\\nthe credit points for each correct answer. Also, the teacher can devise any other\\ncompetitive game with the purpose of facilitating listening and speaking. ]\\n I. Let us write:\\nRead the line : The tall trees in the green wood.\\nTrees are useful for mankind in many ways. Given below are some clues. Write a\\nfew lines on each.', metadata={'source': '../data/test3.pdf', 'page': 5}),\n",
       " Document(page_content='7Tree\\n- Construction of a house\\n- Furniture\\n- Rainfall\\n- Temperature control\\n- Soil erosion\\n- Deforestation\\n- Afforestation.\\n', metadata={'source': '../data/test3.pdf', 'page': 6}),\n",
       " Document(page_content='8A Letter to God\\n G. L. Fuentes\\n A.     Lead – in:\\nHave you ever written a letter to God ? Did you ever come across someone\\nwriting a letter to God ? People believe faith can move mountains. But what should\\nwe put our faith in ? This is the question this story delicately poses.\\nLencho is a farmer who writes a letter to God  asking for a sum of money\\nwhen his crops fail. Does Lencho’s letter reach God ? Does God send him the money ?\\nThink and try to answer these questions. Before you begin to read the story, try to imagine\\nhow it would develop and what conclusion it might arrive at.\\n B. The Text:\\nThe house - the only one in the entire valley– sat on the crest of a low hill. From\\nthis height one would see the river and the field of ripe corn dotted with the flowers that\\nalways promised a good harvest. The only thing the earth needed was a downpour or\\nat least a shower. Throughout the morning Lencho–who knew his fields intimately–had\\ndone nothing else but see the sky towards the north-east.\\n“Now we’re really going to get some water, woman.” The woman who was\\npreparing supper, replied, “Yes, God willing”. The older boys were working in the field,\\nwhile the smaller ones were playing near the house until the woman called to them all,\\n“Come for dinner”. It was during the meal that, just as  Lencho had predicted , big\\ndrops of rain began to fall. In the north-east huge mountains of clouds could be seen\\napproaching. The air was fresh and sweet. The man went out for no other reason than\\nto have the pleasure of feeling the rain on his body, and when he returned he exclaimed,\\n“These aren’t raindrops falling from the sky, they are new coins. The big drops are ten\\ncent pieces and the little ones are fives.”', metadata={'source': '../data/test3.pdf', 'page': 7}),\n",
       " Document(page_content='9With a satisfied expression he regarded the field of ripe corn with its flowers,\\ndraped  in a curtain of rain. But suddenly a strong wind began to blow and along with\\nthe rain very large hailstones began to fall. These truly did resemble new silver coins.\\nThe boys, exposing themselves to the rain, ran out to collect the frozen pearls.\\n“It’s really getting bad now”, exclaimed the man. “I hope it passes quickly.” It did\\nnot pass quickly. For an hour the hail rained on the house, the garden, the hillside, the\\ncornfield, on the whole valley. The field was white, as if covered with salt.\\nNot a leaf remained on the trees. The corn was totally destroyed. The flowers\\nwere gone from the plants. Lencho’s soul was filled with sadness. When the storm had\\npassed, he stood in the middle of the field and said to his sons, “A plague of locusts\\nwould have left more than this. The hail has left nothing. This year we will have no corn.”\\nThat night was a sorrowful one.\\n“All our work, for nothing.”\\n“There’s no one who can help us.”\\n“We’ll all go hungry this year.”\\nBut in the hearts of all who lived in that solitary  house in the middle of the valley,\\nthere was a single hope: help from God.\\n“Don’t be so  upset , even though this seems like a total loss. Remember, no one\\ndies of hunger.”\\n“That’s what they say : no one dies of hunger.”\\nAll through the night, Lencho thought only of one hope: the help of God, whose\\neyes, as he had been instructed, see everything, even what is deep in one’s conscience.\\nLencho was an ox of a man, working like an animal in the fields, but still he knew how to\\nwrite. The following Sunday, at daybreak, he began to write a letter which he himself\\nwould carry to town and place in the mail. It was nothing less than a letter to God.', metadata={'source': '../data/test3.pdf', 'page': 8}),\n",
       " Document(page_content='10“God,” he wrote, “if you don’t help me, my family and I will go hungry this year. I\\nneed a hundred pesos in order to sow my field again and to live until the crop comes,\\nbecause the hailstorm...”\\nHe wrote ‘To God’ on the envelope, put the letter inside and, still troubled, went to\\ntown. At the post office, he placed a stamp on the letter and dropped it into the mailbox.\\nOne of the employees, who was a postman and also helped at the post office,\\nwent to his boss laughing heartily and showed him the letter to God. Never in his career\\nas a postman had he known that address. The postmaster– a fat, amiable  fellow–also\\nbroke out laughing, but almost immediately he turned serious and, tapping the letter on\\nhis desk, commented, “What faith ! I wish I had the faith of the man who wrote this letter.\\nStarting up a correspondence  with God !”\\nSo, in order not to shake the writer’s faith in God, the postmaster came up with an\\nidea: answer the letter. But when he opened it, it was evident that to answer it he needed\\nsomething more than goodwill, ink and paper. But he stuck to his resolution:  he asked\\nfor money from his employees, he himself gave part of his salary, and several friends of\\nhis were obliged to give something ‘for an act of charity’.\\nIt was impossible for him to gather together the hundred pesos, so he was able to\\nsend the farmer only a little more than half. He put the money in an envelope addressed\\nto Lencho and with it a letter containing only a single word as a signature : God.\\nThe following Sunday Lencho came a bit earlier than usual to ask if there was a\\nletter for him. It was the postman himself who handed the letter to him while the\\npostmaster, experiencing the contentment  of a man who has performed a good deed,\\nlooked on from his office.\\nLencho showed not the slightest surprise on seeing the money; such was his\\nconfidence- but he became angry when he counted the money. God could not have\\nmade a mistake, nor could he have denied Lencho what he had requested.', metadata={'source': '../data/test3.pdf', 'page': 9}),\n",
       " Document(page_content='11Immediately, Lencho went up to the window to ask for paper and ink. On the public\\nwriting-table, he started to write, with much wrinkling of his brow, caused by the effort he\\nhad to make to express his ideas. When he finished, he went to the window to buy a\\nstamp which he licked and then affixed to the envelope with a blow of his fist. The\\nmoment the letter fell into the mailbox the postmaster went to open it. It said: “God: Of\\nthe money that I asked for, only seventy pesos reached me. Send me the rest since I\\nneed it very much. But don’t send it to me through the mail because the post office\\nemployees are a bunch of crooks . Lencho.”\\n C. About the Author:\\nGregorio Lopez Fuentes (1895-1966) was a Mexican novelist, poet, and\\njournalist. Fuentes started writing at the age of 15, when the Mexican Revolution began.\\nMany of his books are related to the civil conflict. His stories are exciting and humorous.\\nMany of his works are concerned with the oppression of Americans. He was awarded\\nthe National Prize of Arts and Science in 1935.\\n D. Notes & Glossary:\\ncrest : top/the highest part of a hill\\ndotted with : scattered over an area\\npredict : fo retell the future\\ndrape : cover\\nlocusts : insects which fly in big groups and destroy crops.\\nsolitary : lonely / single\\nupset : disturbed\\nconscience : an inner sense of right and wrong\\npeso : currency of several Latin American countries', metadata={'source': '../data/test3.pdf', 'page': 10}),\n",
       " Document(page_content='12amiable : friendly and pleasant\\ncorrespondence : an act of writing letters\\nresolution : a firm decision\\ncontentment : satisfaction\\ncrooks : dishonest persons / people\\n E. Let’s understand the text :\\n1) Where did Lencho live ?\\n2) What did he hope for ?\\n3) What did he say about the raindrops ?\\n4) How did the rain change ?\\n5) What happened to Lencho’s corn fields ?\\n6) Who did Lencho have faith in ?\\n7) Who did he write a letter to ?\\n8) Who read the letter ?\\n9) What did the postmaster do ?\\n10) Was Lencho surprised to find a letter for him with money in it ?\\n11) What was Lencho’s reaction after getting the letter ?\\n F. Let’s read between the lines:\\n (a) (i) Why did Lencho keep on looking at the sky throughout the morning?\\n(ii) Why was the field white after the storm ?\\n(iii) Why did Lencho say the raindrops were like ‘new coins’ ?\\n(iv) Why did Lencho prefer locusts to the storm ?\\n(v) Did Lencho try to find out who had sent the money to him ? Why / Why not\\n?', metadata={'source': '../data/test3.pdf', 'page': 11}),\n",
       " Document(page_content='13(vi) What would be the reaction of the post office employees when they read\\nthe second letter ?\\n(b)  Read the passage from the text and answer the questions that follow:\\nAll through the night —————————————— act of charity. (Five\\nparagraphs)\\n(i) Who does Lencho have complete faith in ?\\n(ii) ‘Lencho was an ox of a man’ – what does the line mean ?\\n(iii) What was the postmaster like ?\\n(iv) Why did the postmaster send money to Lencho ?\\n(v) What does the expression ‘an act of charity’ mean ?\\n G. Let’s learn some new words :\\n      (i) Look at the following sentence from the story. But suddenly a strong wind\\nbegan to blow and along with the rain very large hailstones began to fall.\\n‘Hailstones’ are small balls of ice that fall like rain. A storm in which hailstones\\nfall is a ‘hailstorm’. We know that a storm is bad weather with strong winds, rain,\\nthunder and lightning.\\nThere are different names in different parts of the world for storms, depending on\\ntheir nature. Try to match the names in the box with their descriptions below, and fill in\\nthe blanks. You may take the help of a dictionary.\\ngale, whirlwind, cyclone\\nhurricane, tornado, typhoon\\n1) A violent tropical storm in which strong winds move in a circle :\\n__ __ c __ __ __ __\\n2) An extremely strong wind : ___  a     ___    ___\\n3) A violent tropical storm with very strong winds : __  __  p __  __  __\\n4) A violent storm with strong winds, especially in the Western Atlantic Ocean :\\n__ __ r __ __ __ __ __ __', metadata={'source': '../data/test3.pdf', 'page': 12}),\n",
       " Document(page_content='145) A violent storm whose centre is a cloud in the shape of a funnel : __ __ __ n __\\n__ __\\n6) A very strong wind that moves very fast in a spinning movement and causes a lot\\nof damage : __ __ __ __ l __ __ __ __\\n(ii) Mark how the word ‘hope’ is used in these sentences from the story.\\na) I hope it (the hailstorm) passes quickly.\\nb) There was a single hope : help from God.\\n         In sentence ‘a’,hope  is used as a verb which means you wish for something to\\nhappen.\\nIn sentence  ‘b’ it is a  noun  meaning a chance for something to happen.\\nMatch the sentences in Column A with the meanings of ‘hope’ in Column B.\\nA B\\n1) Will you get the subjects you want to study\\nin a college ? - a feeling that something\\nIhope  so. good will probably happen\\n2) I hope you don’t mind my saying this, - thinking that this would\\nbut I don’t like the way you are arguing. happen (It may or may not\\nhave happened)\\n3) This discovery will give new hope  to - stopped believing that\\nHIV/AIDS sufferers. this good thing would happen\\n4) We are hoping against hope  that the - wanting something to\\njudges would not notice our mistakes. happen (and thinking it quite\\npossible)\\n5) I called early in the hope  of speaking - showing concern that\\nto her before she went to school. what you say should not offend\\nor disturb the other person : a\\nway of being polite\\n6) Just when everybody had given up - wishing for something', metadata={'source': '../data/test3.pdf', 'page': 13}),\n",
       " Document(page_content='15hope , the fisherman came back to happen, although this\\nseven days after the c yclone. is very unlikely.\\n(iii) Now read the story and make a list of words used as verbs and nouns. Make\\nsentences of your own using them as verbs and nouns in your own words.\\n H. Let’s listen and speak :\\nIn pairs, play the roles of a father and son. You may substitute the roles with\\nthose of a mother and daughter, if required.\\nDad : It’s quite late. Go to bed.\\nSon : I’ve got the final examination tomorrow.\\nDad: It’s almost 12.30 in the night.\\nNo more argument. Off to bed.\\nSon: I have a lot to learn yet.\\nDad: It’s essential to get your concepts clear.\\nSon: But I need to make sure that I know everything that’s required.\\nDad: Isn’t it necessary to read the books to get the concepts clear ?\\nSon: All right, father.\\nRead the text and prepare a dialogue like the  one given above and play the roles.\\n I. Let’s learn language:\\n(i) Relative Clauses:\\nLook at the following sentences:\\nThroughout the morning Lencho – who knew his fields intimately – looked at the\\nsky.', metadata={'source': '../data/test3.pdf', 'page': 14}),\n",
       " Document(page_content='16This sentence may also be written as All morning Lencho, who knew his fields\\nintimately , looked at the sky.\\nThe underlined parts of the sentences provide us more information about Lencho\\nand the woman. We call it a Relative Clause. Mark that they begin with a relative pronoun,\\n‘who’. Other common relative pronouns are whom, which, that  whose.\\nThe relative clause in the above sentence is called non-defining relative clause\\nbecause we already know the identity of the person described.  We don’t need the\\ninformation in the relative clause to pick the person out of a larger set.\\nA. Non-defining Relative Clause  usually has a comma preceding and following it.\\nSome writers use a dash (-) instead (as in the story). If the relative clause comes\\nat the end, we just put a full stop.\\nJoin the pair of sentences given below using a relative pronoun.\\n(i) My mother is going to host a T.V. show on cooking.\\nShe cooks very well.\\n(ii) Our institution is highly popular.\\nIt works for public welfare.\\n(iii) Satish scored a goal in the last minute.\\nHe was fortunate.\\n(iv) Mother Teresa is revered as  a saint.\\nShe served mankind.\\n(v) I often go to Mumbai.\\nMumbai is the commercial capital of India.\\n(vi) These sports -persons are going to meet the President.\\nTheir performance has been excellent.\\nSometimes the relative pronoun in a relative clause remains ‘hidden’. For example,\\nlook at the first sentence of the story.', metadata={'source': '../data/test3.pdf', 'page': 15}),\n",
       " Document(page_content='17a) The house – the only one in the entire valley – sat on the crest of a low hill.\\nWe can rewrite the sentence as : (without any change in the meaning)\\nThe house – which was  the only one in the entire valley – sat on the crest of a low\\nhill.\\nIn the original sentence of the text (a) the relative pronoun ‘which’ and the verb\\n‘was’ are not present (hidden).\\n(ii) Using negatives for emphasis:\\nWe know that sentences with words such as ‘no’, ‘not’, or ‘nothing’ show the\\nabsence of something, or contradict something.\\nFor example : (from the text)\\na) This year we will have no corn. (The crops have failed.)\\nb) The hail has left nothing. (Absence of a crop)\\nc) These aren’t raindrops falling from the sky, they are new coins. (Contradicts the\\ncommon idea of what the drops of water falling from the sky are.)\\nBut sometimes negative words are used to emphasise an idea. Look at these sentences\\nfrom the story :\\nd) Lencho . . . had done nothing  else but see the sky towards the north-east. (He\\nhad done only this.)\\ne) The man went out for no other reason than to have the pleasure of feeling the\\nrain on his body. (He had only this reason.)\\nf) Lencho showed not the slightest surprise on seeing the money. (He showed no\\nsurprise at all.)\\nNow look back at example ‘C’. Mark that the contradiction in fact serves to emphasise\\nthe value or usefulness of the rain to the farmer.\\nFind sentences in the story with negative words, which express the following ideas\\nemphatically :\\n1) The trees lost all their leaves.', metadata={'source': '../data/test3.pdf', 'page': 16}),\n",
       " Document(page_content='182) The letter was addressed to God himself.\\n3) The postman saw this address for the first time in his life.\\n J.  Let’s write :\\nRead the newspaper report given below:\\nNote the information given at different points.\\nRath Yatra pulls in lakhs of devotees to Puri - T itle\\nThe Times of India - Source\\nPuri, 22nd June -                Place and date\\nAll roads led to Puri on Thursday with lakhs of Topic sentence\\ndevotees flocking to the town to participate in and Introduction\\nthe grand Rath Yatra festival. A wave of euphoria\\nswept across the beach town with the reigning\\ndeities commencing their nine day ‘outing’ from Details of the Yatra\\nJagannath shrine to Gundicha temple in a boisterous\\nprocession.\\nHowever, the threat of possible terror\\nattack and the death of two pilgrims allegedly Information on the terror\\nin a stampede cast a shadow on the threat and stampede\\nfestivities. There were intelligence reports\\nthat some subversive groups might create\\ntrouble during Rath Yatra.\\n“Security was tightened compared to the previous Further details of\\nyears” the DGP said. “We also appealed to the action taken by the\\npeople to remain alert,” the DGP added. authorities.\\n(1) Now imagine that you are a reporter of ‘The Indian Express”. You have received\\nthe news about the recent cyclone that hit Odisha. Using the guidelines given in the box\\nabove, complete a similar report for the newspaper.\\n', metadata={'source': '../data/test3.pdf', 'page': 17})]"
      ]
     },
     "execution_count": 6,
     "metadata": {},
     "output_type": "execute_result"
    }
   ],
   "source": [
    "data"
   ]
  },
  {
   "cell_type": "code",
   "execution_count": 7,
   "id": "b4fd7c9e",
   "metadata": {},
   "outputs": [
    {
     "name": "stdout",
     "output_type": "stream",
     "text": [
      "You have 18 document(s) in your data\n",
      "There are 1048 characters in your document\n"
     ]
    }
   ],
   "source": [
    "# Note: If you're using PyPDFLoader then it will split by page for you already\n",
    "print (f'You have {len(data)} document(s) in your data')\n",
    "print (f'There are {len(data[0].page_content)} characters in your document')"
   ]
  },
  {
   "attachments": {},
   "cell_type": "markdown",
   "id": "8af9b604",
   "metadata": {},
   "source": [
    "### Chunk your data up into smaller documents"
   ]
  },
  {
   "cell_type": "code",
   "execution_count": 8,
   "id": "fb3c6f02",
   "metadata": {},
   "outputs": [],
   "source": [
    "# Note: If you're using PyPDFLoader then we'll be splitting for the 2nd time.\n",
    "# This is optional, test out on your own data.\n",
    "\n",
    "text_splitter = RecursiveCharacterTextSplitter(chunk_size=2000, chunk_overlap=0)\n",
    "texts = text_splitter.split_documents(data)"
   ]
  },
  {
   "cell_type": "code",
   "execution_count": 9,
   "id": "879873a4",
   "metadata": {},
   "outputs": [
    {
     "name": "stdout",
     "output_type": "stream",
     "text": [
      "Now you have 19 documents\n"
     ]
    }
   ],
   "source": [
    "print (f'Now you have {len(texts)} documents')"
   ]
  },
  {
   "attachments": {},
   "cell_type": "markdown",
   "id": "838b2843",
   "metadata": {},
   "source": [
    "### Create embeddings of your documents to get ready for semantic search"
   ]
  },
  {
   "cell_type": "code",
   "execution_count": 11,
   "id": "373e695a",
   "metadata": {},
   "outputs": [
    {
     "name": "stderr",
     "output_type": "stream",
     "text": [
      "/home/codespace/.python/current/lib/python3.10/site-packages/pinecone/index.py:4: TqdmExperimentalWarning: Using `tqdm.autonotebook.tqdm` in notebook mode. Use `tqdm.tqdm` instead to force console mode (e.g. in jupyter console)\n",
      "  from tqdm.autonotebook import tqdm\n"
     ]
    }
   ],
   "source": [
    "from langchain.vectorstores import Chroma, Pinecone\n",
    "from langchain.embeddings.openai import OpenAIEmbeddings\n",
    "import pinecone"
   ]
  },
  {
   "cell_type": "code",
   "execution_count": 12,
   "id": "0e093ef3",
   "metadata": {
    "hide_input": false
   },
   "outputs": [],
   "source": [
    "# Check to see if there is an environment variable with you API keys, if not, use what you put below\n",
    "OPENAI_API_KEY = os.environ.get('OPENAI_API_KEY')\n",
    "PINECONE_API_KEY = os.environ.get('PINECONE_API_KEY')\n",
    "PINECONE_API_ENV = os.environ.get('PINECONE_API_ENV', \"asia-southeast1-gcp-free\") # You may need to switch with your env"
   ]
  },
  {
   "cell_type": "code",
   "execution_count": 13,
   "id": "4e0d1c6a",
   "metadata": {},
   "outputs": [],
   "source": [
    "embeddings = OpenAIEmbeddings(openai_api_key=OPENAI_API_KEY)"
   ]
  },
  {
   "cell_type": "code",
   "execution_count": 14,
   "id": "0deb2f6a",
   "metadata": {},
   "outputs": [],
   "source": [
    "# initialize pinecone\n",
    "pinecone.init(\n",
    "    api_key=PINECONE_API_KEY,  # find at app.pinecone.io\n",
    "    environment=PINECONE_API_ENV  # next to api key in console\n",
    ")\n",
    "index_name = \"langchain1\" # put in the name of your pinecone index here"
   ]
  },
  {
   "cell_type": "code",
   "execution_count": 15,
   "id": "388988ce",
   "metadata": {},
   "outputs": [],
   "source": [
    "docsearch = Pinecone.from_texts([t.page_content for t in texts], embeddings, index_name=index_name)"
   ]
  },
  {
   "attachments": {},
   "cell_type": "markdown",
   "id": "3c35dcd9",
   "metadata": {},
   "source": [
    "### Query those docs to get your answer back"
   ]
  },
  {
   "cell_type": "code",
   "execution_count": 19,
   "id": "f051337b",
   "metadata": {},
   "outputs": [],
   "source": [
    "from langchain.llms import OpenAI\n",
    "from langchain.chains.question_answering import load_qa_chain"
   ]
  },
  {
   "cell_type": "code",
   "execution_count": 20,
   "id": "6b9b1c03",
   "metadata": {},
   "outputs": [],
   "source": [
    "llm = OpenAI(temperature=0, openai_api_key=OPENAI_API_KEY)\n",
    "chain = load_qa_chain(llm, chain_type=\"stuff\")"
   ]
  },
  {
   "cell_type": "code",
   "execution_count": 25,
   "id": "f67ea7c2",
   "metadata": {},
   "outputs": [],
   "source": [
    "query = \"Why is almighty great?\"\n",
    "docs = docsearch.similarity_search(query)"
   ]
  },
  {
   "cell_type": "code",
   "execution_count": 26,
   "id": "3dfd2b7d",
   "metadata": {},
   "outputs": [
    {
     "data": {
      "text/plain": [
       "' The poem suggests that God is great because he created all things bright and beautiful, all creatures great and small, all things wise and wonderful.'"
      ]
     },
     "execution_count": 26,
     "metadata": {},
     "output_type": "execute_result"
    }
   ],
   "source": [
    "chain.run(input_documents=docs, question=query)"
   ]
  },
  {
   "cell_type": "code",
   "execution_count": null,
   "id": "9dcb84a7",
   "metadata": {},
   "outputs": [],
   "source": []
  }
 ],
 "metadata": {
  "kernelspec": {
   "display_name": "Python 3 (ipykernel)",
   "language": "python",
   "name": "python3"
  },
  "language_info": {
   "codemirror_mode": {
    "name": "ipython",
    "version": 3
   },
   "file_extension": ".py",
   "mimetype": "text/x-python",
   "name": "python",
   "nbconvert_exporter": "python",
   "pygments_lexer": "ipython3",
   "version": "3.10.4"
  }
 },
 "nbformat": 4,
 "nbformat_minor": 5
}
