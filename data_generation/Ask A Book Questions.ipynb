{
 "cells": [
  {
   "cell_type": "code",
   "execution_count": 1,
   "id": "9d615a77",
   "metadata": {},
   "outputs": [
    {
     "name": "stdout",
     "output_type": "stream",
     "text": [
      "Requirement already satisfied: pypdf in /usr/local/python/3.10.4/lib/python3.10/site-packages (3.8.1)\n",
      "\n",
      "\u001b[1m[\u001b[0m\u001b[34;49mnotice\u001b[0m\u001b[1;39;49m]\u001b[0m\u001b[39;49m A new release of pip is available: \u001b[0m\u001b[31;49m23.1.1\u001b[0m\u001b[39;49m -> \u001b[0m\u001b[32;49m23.1.2\u001b[0m\n",
      "\u001b[1m[\u001b[0m\u001b[34;49mnotice\u001b[0m\u001b[1;39;49m]\u001b[0m\u001b[39;49m To update, run: \u001b[0m\u001b[32;49mpython -m pip install --upgrade pip\u001b[0m\n"
     ]
    }
   ],
   "source": [
    "# pip install langchain --upgrade\n",
    "# Version: 0.0.164\n",
    "\n",
    "! pip install pypdf"
   ]
  },
  {
   "cell_type": "code",
   "execution_count": 27,
   "id": "2d3e92ed",
   "metadata": {},
   "outputs": [],
   "source": [
    "# PDF Loaders. If unstructured gives you a hard time, try PyPDFLoader\n",
    "from langchain.document_loaders import UnstructuredPDFLoader, OnlinePDFLoader, PyPDFLoader\n",
    "\n",
    "from langchain.text_splitter import RecursiveCharacterTextSplitter"
   ]
  },
  {
   "attachments": {},
   "cell_type": "markdown",
   "id": "5166d759",
   "metadata": {},
   "source": [
    "### Load your data"
   ]
  },
  {
   "cell_type": "code",
   "execution_count": 26,
   "id": "b4a2d6bf",
   "metadata": {},
   "outputs": [],
   "source": [
    "loader = PyPDFLoader(\"../data/UHV Text Book.pdf\")\n",
    "\n",
    "## Other options for loaders \n",
    "# loader = UnstructuredPDFLoader(\"../data/field-guide-to-data-science.pdf\")\n",
    "# loader = OnlinePDFLoader(\"https://wolfpaulus.com/wp-content/uploads/2017/05/field-guide-to-data-science.pdf\")"
   ]
  },
  {
   "cell_type": "code",
   "execution_count": 29,
   "id": "bcdac23c",
   "metadata": {},
   "outputs": [],
   "source": [
    "data = loader.load()"
   ]
  },
  {
   "cell_type": "code",
   "execution_count": null,
   "id": "ec20e47f",
   "metadata": {},
   "outputs": [],
   "source": [
    "data"
   ]
  },
  {
   "cell_type": "code",
   "execution_count": 31,
   "id": "b4fd7c9e",
   "metadata": {},
   "outputs": [
    {
     "name": "stdout",
     "output_type": "stream",
     "text": [
      "You have 314 document(s) in your data\n",
      "There are 137 characters in your document\n"
     ]
    }
   ],
   "source": [
    "# Note: If you're using PyPDFLoader then it will split by page for you already\n",
    "print (f'You have {len(data)} document(s) in your data')\n",
    "print (f'There are {len(data[0].page_content)} characters in your document')"
   ]
  },
  {
   "attachments": {},
   "cell_type": "markdown",
   "id": "8af9b604",
   "metadata": {},
   "source": [
    "### Chunk your data up into smaller documents"
   ]
  },
  {
   "cell_type": "code",
   "execution_count": null,
   "id": "fb3c6f02",
   "metadata": {},
   "outputs": [],
   "source": [
    "# Note: If you're using PyPDFLoader then we'll be splitting for the 2nd time.\n",
    "# This is optional, test out on your own data.\n",
    "\n",
    "text_splitter = RecursiveCharacterTextSplitter(chunk_size=2000, chunk_overlap=50)\n",
    "texts = text_splitter.split_documents(data)\n",
    "texts"
   ]
  },
  {
   "cell_type": "code",
   "execution_count": 54,
   "id": "879873a4",
   "metadata": {},
   "outputs": [
    {
     "name": "stdout",
     "output_type": "stream",
     "text": [
      "Now you have 488 documents\n"
     ]
    }
   ],
   "source": [
    "print (f'Now you have {len(texts)} documents')"
   ]
  },
  {
   "attachments": {},
   "cell_type": "markdown",
   "id": "838b2843",
   "metadata": {},
   "source": [
    "### Create embeddings of your documents to get ready for semantic search"
   ]
  },
  {
   "cell_type": "code",
   "execution_count": 38,
   "id": "373e695a",
   "metadata": {},
   "outputs": [],
   "source": [
    "# Why is it used\n",
    "from langchain.vectorstores import Chroma, Pinecone\n",
    "from langchain.embeddings.openai import OpenAIEmbeddings\n",
    "import pinecone\n",
    "import os"
   ]
  },
  {
   "cell_type": "code",
   "execution_count": 39,
   "id": "0e093ef3",
   "metadata": {
    "hide_input": false
   },
   "outputs": [],
   "source": [
    "# Check to see if there is an environment variable with you API keys, if not, use what you put below\n",
    "OPENAI_API_KEY = os.environ.get('OPENAI_API_KEY')\n",
    "PINECONE_API_KEY = os.environ.get('PINECONE_API_KEY')\n",
    "PINECONE_API_ENV = os.environ.get('PINECONE_API_ENV', \"us-west1-gcp-free\") # You may need to switch with your env"
   ]
  },
  {
   "cell_type": "code",
   "execution_count": 40,
   "id": "4e0d1c6a",
   "metadata": {},
   "outputs": [],
   "source": [
    "embeddings = OpenAIEmbeddings(openai_api_key=OPENAI_API_KEY)"
   ]
  },
  {
   "cell_type": "code",
   "execution_count": 41,
   "metadata": {},
   "outputs": [],
   "source": [
    "def create_index(index_name):\n",
    "    pinecone.create_index(index_name, dimension=1536,  metric='cosine')\n",
    "\n",
    "def delete_index(index_name):\n",
    "    pinecone.delete_index(index_name)"
   ]
  },
  {
   "cell_type": "code",
   "execution_count": null,
   "id": "0deb2f6a",
   "metadata": {},
   "outputs": [],
   "source": [
    "# initialize pinecone\n",
    "pinecone.init(\n",
    "    api_key=PINECONE_API_KEY,  # find at app.pinecone.io\n",
    "    environment=PINECONE_API_ENV  # next to api key in console\n",
    ")\n",
    "index_name = \"uhv-book-index\" # put in the name of your pinecone index here\n",
    "create_index(index_name)"
   ]
  },
  {
   "attachments": {},
   "cell_type": "markdown",
   "id": "ea006c12",
   "metadata": {},
   "source": [
    "### Helper Functions"
   ]
  },
  {
   "cell_type": "code",
   "execution_count": 43,
   "id": "73b17893",
   "metadata": {},
   "outputs": [],
   "source": [
    "# No need to load any pdf, use existing index to query.\n",
    "def get_docs_from_exsting_index():\n",
    "    return Pinecone.from_existing_index(index_name=index_name, embedding=embeddings)\n",
    "\n",
    "# Need to load pdf first.\n",
    "def get_docs_from_text():\n",
    "    return Pinecone.from_texts(texts=[doc.page_content for doc in texts], metadatas=[doc.metadata for doc in texts], embedding=embeddings, index_name=index_name)"
   ]
  },
  {
   "cell_type": "code",
   "execution_count": 44,
   "id": "388988ce",
   "metadata": {},
   "outputs": [],
   "source": [
    "docsearch = get_docs_from_text()"
   ]
  },
  {
   "cell_type": "code",
   "execution_count": null,
   "id": "ecf821d4",
   "metadata": {},
   "outputs": [],
   "source": [
    "# docsearch = Pinecone.from_existing_index(index_name=\"langchain1\", embedding=embeddings)"
   ]
  },
  {
   "cell_type": "code",
   "execution_count": 45,
   "id": "72649ec9",
   "metadata": {},
   "outputs": [
    {
     "data": {
      "text/plain": [
       "<langchain.vectorstores.pinecone.Pinecone at 0x7fecdf9c9780>"
      ]
     },
     "execution_count": 45,
     "metadata": {},
     "output_type": "execute_result"
    }
   ],
   "source": [
    "docsearch"
   ]
  },
  {
   "attachments": {},
   "cell_type": "markdown",
   "id": "3c35dcd9",
   "metadata": {},
   "source": [
    "### Query those docs to get your answer back"
   ]
  },
  {
   "cell_type": "code",
   "execution_count": 62,
   "id": "f051337b",
   "metadata": {},
   "outputs": [],
   "source": [
    "from langchain.chat_models import ChatOpenAI\n",
    "from langchain.prompts import PromptTemplate\n",
    "from langchain.chains.question_answering import load_qa_chain"
   ]
  },
  {
   "cell_type": "code",
   "execution_count": 103,
   "id": "6b9b1c03",
   "metadata": {},
   "outputs": [],
   "source": [
    "prompt_template = \"\"\"\n",
    "Use the following pieces of context to answer the question at the end. If you don't know the answer, just say that you don't know, don't try to make up an answer. Answer the question in 50-90 words. Just write answer don't use \"based on given context\".\n",
    "\n",
    "{context}\n",
    "\n",
    "Question: {question}\n",
    "Answer:\n",
    "\"\"\"\n",
    "prompt = PromptTemplate(\n",
    "    template = prompt_template,\n",
    "    input_variables=[\"context\", \"question\"]\n",
    ")\n",
    "#Load an LLM\n",
    "# llm = OpenAI(temperature=0, openai_api_key=OPENAI_API_KEY)\n",
    "llm = ChatOpenAI(\n",
    "    temperature=0,\n",
    "    model_name=\"gpt-3.5-turbo\",            \n",
    ")\n",
    "\n",
    "#Setup chain\n",
    "chain = load_qa_chain(\n",
    "    llm=llm,\n",
    "    chain_type=\"stuff\",\n",
    "    prompt = prompt # Add custom prompt\n",
    ")\n"
   ]
  },
  {
   "cell_type": "code",
   "execution_count": 104,
   "id": "f2f707f6",
   "metadata": {},
   "outputs": [
    {
     "data": {
      "text/plain": [
       "PromptTemplate(input_variables=['context', 'question'], output_parser=None, partial_variables={}, template='\\nUse the following pieces of context to answer the question at the end. If you don\\'t know the answer, just say that you don\\'t know, don\\'t try to make up an answer. Answer the question in 50-90 words. Just write answer don\\'t use \"based on given context\".\\n\\n{context}\\n\\nQuestion: {question}\\nAnswer:\\n', template_format='f-string', validate_template=True)"
      ]
     },
     "execution_count": 104,
     "metadata": {},
     "output_type": "execute_result"
    }
   ],
   "source": [
    "chain.llm_chain.prompt"
   ]
  },
  {
   "cell_type": "code",
   "execution_count": 112,
   "id": "ba085969",
   "metadata": {},
   "outputs": [
    {
     "data": {
      "text/plain": [
       "['1  1. Explain the feelings of respect,  glory, reverence, and gratitude.',\n",
       " '2. How can we practice reverence daily?',\n",
       " '3. Does reverence mean respect?',\n",
       " '4. How do people show reverence?',\n",
       " '5. Explain the concept of false reverence.',\n",
       " '6. What are the steps required to fulfill our basic aspiration?',\n",
       " '7. Define Aspiration. State the link between effort and aspiration.',\n",
       " '8. Why is there a gap between our present effort and expectation to get something?',\n",
       " '9. Diagrammatically represent life with clarity of  basic aspiration.',\n",
       " '10. Define effort.',\n",
       " \"11. How does value education helps in fulfilling one's aspirations?\",\n",
       " '12. What is the meaning of prosperity? How can you say that you are prosperous?',\n",
       " '13. What is the program to fulfil the basic human aspirations? Explain',\n",
       " '14. Do you th ink that human beings are sum -total of sentiments and physical aspects the ‘self’ and the ‘body’? Explain your answer using examples.',\n",
       " '15. What do you understand  by fulfilment  of basic aspirations?',\n",
       " '16. Does lack of self -confidence play any role in increasing p eer pressure? Illustrate with one relevant example.',\n",
       " '17. How can right understanding of the self help in dealing with peer pressure?',\n",
       " '18. \"Our constant need for external validation is deeply connected to effects of peer pressure on us.\" - Do you support this propo sal? Give reasons for your claim.',\n",
       " '19. Can value education provide a long term holistic solution to our constant need to conform? Analyse with respect to your under standing of peer pressure.',\n",
       " '20. Can peer pressure have any positive impact on an individual? Explain  with two real life examples.',\n",
       " '21. Make a list of values in human relationship. How do they contribute to maintain harmony in human relationships? Describe in b rief.',\n",
       " '22. What is Trust? Substantiate your argument describing some of your real -life incidents.',\n",
       " '23. ‘Trust is the foundation value of human relationships.’ Do you agree or disagree? Why?',\n",
       " '24. Justify your arguments on the basis of right understanding of the self.',\n",
       " '25. Misconceptions about intention and competence often result in loss of trust and disharmony in r elationships. How should the terms ‘intention’ and ‘competence’ be understood?',\n",
       " '26. What happens when we doubt the intention of others’, instead of recognising the lack of competence? Exemplify.',\n",
       " '27. With reference to the feeling of trust, distinguish between ‘re sponse’ and ‘reaction’. How do they impact human relationships? Explain.',\n",
       " '28. Has the feeling of trust any relation with when we want to bring improvement in others or we get irritated and become angry? Did you experience such situations? Share your experience .',\n",
       " '29. Find out the distinction between wealth and prosperity?',\n",
       " '30. “My happiness depends on others, what can I do about it”? With this preconditioning of mind, explore whether it is possible t o achieve my basic aspiration?',\n",
       " '31. What will be naturally acceptable to yo u: love (to stand or rise in love) or infatuation (to fall in love)? Justify your answer.',\n",
       " '32. Make a list of your concerns at individual level, and are you making effort to resolve your concerns or for something else?',\n",
       " '33. Trust is the foundation value and Love i s the complete, explain these feelings with reference to harmony in the family?',\n",
       " '34. What are the five basic systems of a human society?',\n",
       " '35. Write a short note on three aspects of preservation?',\n",
       " '36. Reflect on your response or reaction to situations where your favour ite path to what you assumed to be your goal was closed.',\n",
       " '37. Find out the human goal at each of the four levels and what are the gross misunderstandings at each level? Are we having such  notions?',\n",
       " '38. Is there a particular sequence in which the human goals can be  fulfilled? Explain.',\n",
       " '39. Explain the feelings of respect, glory, reverence, and gratitude.',\n",
       " '40. How can we practice reverence daily?',\n",
       " '41. Does reverence mean respect?',\n",
       " '42. How do people show reverence?',\n",
       " '43. Explain the concept of false reverence.',\n",
       " \"44. Elaborate on the concept 'co -existence of self and body’.\",\n",
       " '45. Examine whether health problems of recent times are more due to problems with the body or problems with the Self. Explain wit h examples.',\n",
       " '46. Mention necessary factors to maintain good health.',\n",
       " \"47. ‘Self -regulation' is essential to maintain health’, elaborate with  examples.\",\n",
       " '48. Explain the concept of holistic health.',\n",
       " '49. How does the family impact the health of the individual?',\n",
       " '50. According to your understanding what are the efforts you need to make to improve from reaction to response. Explain with rele vant examples.',\n",
       " '51. Do y ou agree that our decisions are an outcome of preconditioning? Justify',\n",
       " '52. Are you special, unique, different from the others or similar to others?',\n",
       " '53. Do you tend to compete or collaborate with your classmates? When are you more at ease?    2  54. What is naturally acce ptable – to differentiate or to relate, to be complimentary?',\n",
       " '55. When does mutual growth /competence gets better while we work in collaboration or in isolation. Illustrate with relevant exam ples.',\n",
       " '56. What is the proposal for the definition of trust? Illustrate t he feeling of trust with one',\n",
       " '57. example, preferably from your own experience.',\n",
       " '58. Distinguish between intension and competence. What is the outcome when we confuse the two and we doubt the intention of the o ther? What is the outcome when we can see them separat ely and we trust the intention of the other?',\n",
       " '59. ‘If I trust the intention of everyone, people will take undue advantage of me’. Is this statement true or false? Explain.',\n",
       " '60. Distinguish between reaction and response with the clarity of feeling of trust. Give on e example of each for a particular case relationship.',\n",
       " '61. How is trust the foundation value of a relationship?',\n",
       " '62. What do you mean by competence? I mean I can find out their skills – is that their competence?',\n",
       " '63. For how long should you help the other to improve t heir competence? 10 times? What if the other does not want to improve?',\n",
       " '64. Define gratitude. Why I will show my gratitude to the society?',\n",
       " '65. Make a list of problems in the society. What can be done to address the problems in the society?',\n",
       " '66. How mutually prosperi ty is relevance to the societal needs? Explain briefly.',\n",
       " '67. What are the common goals of a human society? Are you working to achieve the  goals? Explain briefly.',\n",
       " '68. What is the foundation value of undivided society? How you are living in your hostels/Institution campus?',\n",
       " '69. How you are leading your village holistically, write down briefly.',\n",
       " '70. Explain what are factors required to develop your village/society with values.',\n",
       " '71. Feeling of love lay down the basis of undivided society. Explain.',\n",
       " '72. Critically examine the prevailing notions of happiness in the society and their consequences.',\n",
       " '73. Choose any two current problems of different kind in the society and suggest how they can be so lved on the basis of natural acceptance of human values.',\n",
       " '74. What is the meaning of prosperity? How can you make our society prosperous?',\n",
       " '75. Define “affection”. How does affection lead to harmony in the society?']"
      ]
     },
     "execution_count": 112,
     "metadata": {},
     "output_type": "execute_result"
    }
   ],
   "source": [
    "loader = PyPDFLoader(\"../data/UHV Question Bank_single_line.pdf\")\n",
    "docs = loader.load()\n",
    "pages =\"\".join(doc.page_content for doc in docs)\n",
    "queries = [query.strip() for query in pages.split(\"\\n\") if query.strip()]\n",
    "queries"
   ]
  },
  {
   "cell_type": "code",
   "execution_count": 101,
   "id": "2fcfb0db",
   "metadata": {},
   "outputs": [],
   "source": [
    "import json\n",
    "def save_answer(answers: dict, file_name: str):\n",
    "    with open(f\"../data/{file_name}\", \"w\", encoding=\"utf-8\") as fp:\n",
    "        json.dump(answers, fp, indent=2, ensure_ascii=True)\n",
    "\n",
    "def read_answers(file_name: str) -> dict:\n",
    "    with open(f\"../data/{file_name}\", \"r\") as fp:\n",
    "        answers = json.load(fp)\n",
    "        return answers"
   ]
  },
  {
   "cell_type": "code",
   "execution_count": 127,
   "id": "7287f58b",
   "metadata": {},
   "outputs": [],
   "source": [
    "answers = read_answers(file_name=\"UHV_Answers_gpt-3.5-turbo.json\")\n",
    "lines= []\n",
    "for question, answer_details in answers.items():\n",
    "    answer = answer_details.get(\"answer\")\n",
    "    pages = answer_details.get(\"pages\")\n",
    "    lines.append(f\"### {question}\\n\")\n",
    "    lines.append(f\"{answer}\\n\")\n",
    "    lines.append(f\" - Source: {pages}\\n\\n\\n\")\n",
    "with open(\"../data/answers.md\", \"w\") as f:\n",
    "    f.writelines(lines)\n",
    "# save_answer(answers, file_name=\"UHV_Answers_gpt-3.5-turbo.json\")"
   ]
  },
  {
   "cell_type": "code",
   "execution_count": 51,
   "id": "11d428d9",
   "metadata": {},
   "outputs": [
    {
     "data": {
      "text/plain": [
       "IndexDescription(name='uhv-book-index', metric='cosine', replicas=1, dimension=1536.0, shards=1, pods=1, pod_type='p1', status={'ready': True, 'state': 'Ready'}, metadata_config=None, source_collection='')"
      ]
     },
     "execution_count": 51,
     "metadata": {},
     "output_type": "execute_result"
    }
   ],
   "source": [
    "pinecone.describe_index(index_name)"
   ]
  },
  {
   "cell_type": "code",
   "execution_count": 115,
   "id": "3dfd2b7d",
   "metadata": {},
   "outputs": [
    {
     "name": "stdout",
     "output_type": "stream",
     "text": [
      "query = '55. When does mutual growth /competence gets better while we work in collaboration or in isolation. Illustrate with relevant exam ples.'\n",
      "answer = 'Mutual growth and competence are better achieved when working in collaboration rather than in isolation. When individuals collaborate, they can share their knowledge, skills, and perspectives, leading to a more comprehensive understanding and better outcomes. For example, in a team project, each member can contribute their unique expertise, resulting in a more innovative and successful solution. On the other hand, working in isolation limits the exchange of ideas and hinders the development of new insights and skills. Therefore, collaboration fosters mutual growth and competence by leveraging the collective strengths and abilities of individuals.'\n",
      "\n",
      "query = '56. What is the proposal for the definition of trust? Illustrate t he feeling of trust with one'\n",
      "answer = \"The proposal for the definition of trust is to differentiate between intention and competence. Trust is defined as having assurance in the other person's intention to make us happy. It is important to understand that everyone's intention is to make us happy, but their competence may be lacking. Trust is the foundation of relationships and it is necessary to evaluate the other person's competence before making any decisions. Trust does not mean blindly trusting someone, but rather having the right understanding and awareness.\"\n",
      "\n",
      "query = '57. example, preferably from your own experience.'\n",
      "answer = \"I don't know.\"\n",
      "\n",
      "query = '58. Distinguish between intension and competence. What is the outcome when we confuse the two and we doubt the intention of the o ther? What is the outcome when we can see them separat ely and we trust the intention of the other?'\n",
      "answer = 'Intention refers to our desire or motivation to do something, while competence refers to our ability or skill to actually fulfill that intention. When we confuse the two and doubt the intention of the other person, it leads to mistrust, opposition, and a breakdown in the relationship. However, when we can see intention and competence separately and trust the intention of the other person, it allows us to become a help to each other and work on improving our own competence and the competence of the other person.'\n",
      "\n",
      "query = '59. ‘If I trust the intention of everyone, people will take undue advantage of me’. Is this statement true or false? Explain.'\n",
      "answer = \"False. Trusting the intention of everyone does not mean that people will take undue advantage of you. In fact, having trust in the intention of others gives you inner strength and allows you to interact with people more effectively. When you trust someone's intention, you are able to see their true desires and intentions, even if they may not be aware of it themselves. This understanding helps you to become a help to others and prevents you from getting hurt or disturbed. People can only take advantage of you if you do not have the right understanding, not because you trust their intention.\"\n",
      "\n",
      "query = '60. Distinguish between reaction and response with the clarity of feeling of trust. Give on e example of each for a particular case relationship.'\n",
      "answer = 'Reaction refers to an immediate and impulsive emotional response to a situation or stimulus. In the context of trust, a reaction would be doubting the intention of the other person without considering their competence. For example, if a colleague makes a mistake at work, a reaction would be getting angry and blaming them without giving them the benefit of the doubt.\\n\\nOn the other hand, response refers to a thoughtful and considered action or behavior in a given situation. In the context of trust, a response would be acknowledging the competence of the other person while addressing any concerns or issues. For example, if a friend cancels plans last minute, a response would be expressing understanding and discussing alternative options rather than getting angry or irritated.'\n",
      "\n",
      "query = '61. How is trust the foundation value of a relationship?'\n",
      "answer = \"Trust is the foundation value of a relationship because it allows for a sense of assurance and relatedness between individuals. When there is trust, there is an understanding that each person wants the happiness of the other. Trust enables individuals to interact and evaluate each other's competence without doubting their intention. It creates a harmonious environment and prevents opposition or extreme situations like war. Trust is essential for building strong and healthy relationships.\"\n",
      "\n",
      "query = '62. What do you mean by competence? I mean I can find out their skills – is that their competence?'\n",
      "answer = \"Competence refers to the ability or skill to fulfill one's intentions or aspirations. It is not limited to just skills, but also includes the capability to achieve what one desires or aims for.\"\n",
      "\n",
      "query = '63. For how long should you help the other to improve t heir competence? 10 times? What if the other does not want to improve?'\n",
      "answer = \"The given context does not provide any information about how long one should help the other to improve their competence or what to do if the other person does not want to improve. Therefore, I don't know the answer to the question.\"\n",
      "\n",
      "query = '64. Define gratitude. Why I will show my gratitude to the society?'\n",
      "answer = 'Gratitude is the feeling of acceptance and appreciation for someone who has made efforts for my excellence. I will show my gratitude to society because when we have the right understanding ourselves and are able to enable others to have it, gratitude is a natural outcome. By helping others make a qualitative improvement in themselves, we contribute to their lasting happiness and prosperity. Therefore, showing gratitude to society is a way of acknowledging and expressing appreciation for the support and guidance we receive in our pursuit of excellence.'\n",
      "\n",
      "query = '65. Make a list of problems in the society. What can be done to address the problems in the society?'\n",
      "answer = \"I don't know.\"\n",
      "\n",
      "query = '66. How mutually prosperi ty is relevance to the societal needs? Explain briefly.'\n",
      "answer = 'Mutual prosperity is relevant to societal needs because it is the foundation of harmony in society. When individuals have the right understanding and assess their needs correctly, they can produce more than required, leading to prosperity in their families. This prosperity can then be shared with others, enriching the society as a whole. By ensuring mutual fulfillment in relationships and using natural resources in a renewable manner, societal needs can be met while also preserving and enriching nature.'\n",
      "\n",
      "query = '67. What are the common goals of a human society? Are you working to achieve the  goals? Explain briefly.'\n",
      "answer = 'The common goals of a human society, as mentioned in the context, are right understanding for every human being, prosperity for every family, fearlessness and mutual trust in the society, and co-existence with nature. It is important to work towards these goals in order to achieve sustainable happiness and prosperity for all. Personally, I can contribute to these goals by promoting understanding, prosperity, trust, and co-existence in my own actions and interactions with others.'\n",
      "\n",
      "query = '68. What is the foundation value of undivided society? How you are living in your hostels/Institution campus?'\n",
      "answer = 'The foundation value of an undivided society is love. Love is the feeling that leads to an undivided society and it starts from a family and expands to the world family. In terms of living in hostels or institution campuses, it is not mentioned in the given context.'\n",
      "\n",
      "query = '69. How you are leading your village holistically, write down briefly.'\n",
      "answer = \"I don't know.\"\n",
      "\n",
      "query = '70. Explain what are factors required to develop your village/society with values.'\n",
      "answer = 'The factors required to develop a village/society with values include right understanding, harmony in relationships, and the fulfillment of values such as trust, respect, affection, care, guidance, reverence, glory, gratitude, and love. Additionally, there needs to be a focus on the comprehensive human goal, which involves working towards an orderly living of the human society and the well-being of all. Education and sanskara (cultural refinement) play a crucial role in inculcating universally acceptable human values. The concept of \"suraksha\" (protection) is also important in ensuring the prosperity and safety of the village/society.'\n",
      "\n",
      "query = '71. Feeling of love lay down the basis of undivided society. Explain.'\n",
      "answer = 'The feeling of love lays down the basis of an undivided society because it starts with trust and affection within the family, and then expands to include all human beings. Love allows us to recognize and fulfill the values and feelings in our relationships, leading to justice and mutual happiness. When we understand and embrace the values in our relationships, we can live in harmony with all human beings, creating an undivided society based on love and connectedness.'\n",
      "\n",
      "query = '72. Critically examine the prevailing notions of happiness in the society and their consequences.'\n",
      "answer = 'The prevailing notions of happiness in society are often based on external factors such as material possessions, social status, and achievements. This leads to a constant pursuit of these things, which can result in stress, anxiety, and a lack of fulfillment. Additionally, the belief that happiness and unhappiness are two sides of the same coin can lead to a cycle of constantly fluctuating emotions. It is important to critically examine these notions and recognize that true happiness comes from within, from being in a state of harmony and contentment.'\n",
      "\n",
      "query = '73. Choose any two current problems of different kind in the society and suggest how they can be so lved on the basis of natural acceptance of human values.'\n",
      "answer = \"I don't know.\"\n",
      "\n",
      "query = '74. What is the meaning of prosperity? How can you make our society prosperous?'\n",
      "answer = 'Prosperity is defined as the feeling of having or producing more than the required physical facilities. To make our society prosperous, we need to first identify the correct assessment of the need for physical facilities. This involves understanding and fulfilling the basic needs of individuals and ensuring that they have access to the necessary resources. Additionally, it is important to use natural resources in a renewable manner and adopt appropriate technologies that satisfy human needs while also enriching nature. By achieving a balance between fulfilling needs and preserving the environment, we can create a prosperous society.'\n",
      "\n",
      "query = '75. Define “affection”. How does affection lead to harmony in the society?'\n",
      "answer = 'Affection is the feeling of being related to the other and recognizing that both parties want to make each other happy. Affection leads to harmony in society because it creates a sense of connectedness and recognition of trust and respect in relationships. When there is affection, people are more likely to work towards mutual fulfillment and improve understanding, leading to harmonious interactions and a foundation for an undivided human race.'\n",
      "\n"
     ]
    }
   ],
   "source": [
    "from collections import defaultdict\n",
    "file_name = \"UHV_Answers_gpt-3.5-turbo.json\"\n",
    "answers_dict = read_answers(file_name=file_name)\n",
    "sub_queries = queries[53:]\n",
    "for query in sub_queries:\n",
    "    docs = docsearch.similarity_search(query)\n",
    "    details = defaultdict()\n",
    "    answer = chain.run(input_documents=docs, question=query)\n",
    "    print(f\"{query = }\\n{answer = }\\n\")\n",
    "    details[\"answer\"] = answer\n",
    "    details[\"pages\"] = [int(doc.metadata.get(\"page\"))+1 for doc in docs]\n",
    "    answers_dict[query] = details\n",
    "    save_answer(answers_dict, file_name = file_name)"
   ]
  },
  {
   "cell_type": "code",
   "execution_count": null,
   "id": "713a77cf",
   "metadata": {},
   "outputs": [],
   "source": []
  }
 ],
 "metadata": {
  "kernelspec": {
   "display_name": "Python 3 (ipykernel)",
   "language": "python",
   "name": "python3"
  },
  "language_info": {
   "codemirror_mode": {
    "name": "ipython",
    "version": 3
   },
   "file_extension": ".py",
   "mimetype": "text/x-python",
   "name": "python",
   "nbconvert_exporter": "python",
   "pygments_lexer": "ipython3",
   "version": "3.10.4"
  }
 },
 "nbformat": 4,
 "nbformat_minor": 5
}
